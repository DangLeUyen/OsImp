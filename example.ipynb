{
 "cells": [
  {
   "cell_type": "markdown",
   "metadata": {},
   "source": [
    "### Install and import library"
   ]
  },
  {
   "cell_type": "code",
   "execution_count": 1,
   "metadata": {},
   "outputs": [
    {
     "name": "stdout",
     "output_type": "stream",
     "text": [
      "Collecting git+https://github.com/DangLeUyen/OsImp.git\n",
      "  Cloning https://github.com/DangLeUyen/OsImp.git to /private/var/folders/42/h0csfrkn2fvfq63027xhz7d40000gn/T/pip-req-build-5gi9g7fg\n",
      "  Running command git clone --filter=blob:none --quiet https://github.com/DangLeUyen/OsImp.git /private/var/folders/42/h0csfrkn2fvfq63027xhz7d40000gn/T/pip-req-build-5gi9g7fg\n",
      "  Resolved https://github.com/DangLeUyen/OsImp.git to commit 4c0cc62aab4881dc34e570983217e191d26a64e1\n",
      "  Preparing metadata (setup.py) ... \u001b[?25ldone\n",
      "\u001b[?25hRequirement already satisfied: numpy==1.26.0 in /Library/Frameworks/Python.framework/Versions/3.10/lib/python3.10/site-packages (from OsImputation==0.1.0) (1.26.0)\n",
      "Requirement already satisfied: scikit-learn==1.4.2 in /Library/Frameworks/Python.framework/Versions/3.10/lib/python3.10/site-packages (from OsImputation==0.1.0) (1.4.2)\n",
      "Requirement already satisfied: imbalanced-learn==0.12.4 in /Library/Frameworks/Python.framework/Versions/3.10/lib/python3.10/site-packages (from OsImputation==0.1.0) (0.12.4)\n",
      "Requirement already satisfied: scipy>=1.5.0 in /Library/Frameworks/Python.framework/Versions/3.10/lib/python3.10/site-packages (from imbalanced-learn==0.12.4->OsImputation==0.1.0) (1.11.4)\n",
      "Requirement already satisfied: joblib>=1.1.1 in /Library/Frameworks/Python.framework/Versions/3.10/lib/python3.10/site-packages (from imbalanced-learn==0.12.4->OsImputation==0.1.0) (1.4.2)\n",
      "Requirement already satisfied: threadpoolctl>=2.0.0 in /Library/Frameworks/Python.framework/Versions/3.10/lib/python3.10/site-packages (from imbalanced-learn==0.12.4->OsImputation==0.1.0) (3.5.0)\n",
      "\n",
      "\u001b[1m[\u001b[0m\u001b[34;49mnotice\u001b[0m\u001b[1;39;49m]\u001b[0m\u001b[39;49m A new release of pip is available: \u001b[0m\u001b[31;49m24.0\u001b[0m\u001b[39;49m -> \u001b[0m\u001b[32;49m24.2\u001b[0m\n",
      "\u001b[1m[\u001b[0m\u001b[34;49mnotice\u001b[0m\u001b[1;39;49m]\u001b[0m\u001b[39;49m To update, run: \u001b[0m\u001b[32;49mpip install --upgrade pip\u001b[0m\n"
     ]
    }
   ],
   "source": [
    "!pip install git+https://github.com/DangLeUyen/OsImp.git"
   ]
  },
  {
   "cell_type": "code",
   "execution_count": 2,
   "metadata": {},
   "outputs": [],
   "source": [
    "import numpy as np\n",
    "from sklearn.preprocessing import StandardScaler, LabelEncoder\n",
    "from imblearn.datasets import fetch_datasets\n",
    "from OsImp import OsImp\n",
    "\n",
    "from sklearn.experimental import enable_iterative_imputer\n",
    "from sklearn.impute import IterativeImputer\n",
    "\n",
    "from sklearn.model_selection import train_test_split\n",
    "\n",
    "import warnings\n",
    "warnings.filterwarnings(\"ignore\")"
   ]
  },
  {
   "cell_type": "code",
   "execution_count": 3,
   "metadata": {},
   "outputs": [],
   "source": [
    "def generate_randomly_missing(X , missing_rate):\n",
    "    \"\"\"\n",
    "    Creates a randomly missing mask for the input data.\n",
    "\n",
    "    Args:\n",
    "        data (np.ndarray): The input data.\n",
    "        missing_rate (float): The ratio of missing values to create.\n",
    "\n",
    "    Returns:\n",
    "        np.ndarray: An array with the same shape as `data` where missing values are marked as NaN.\n",
    "    \"\"\"\n",
    "    \n",
    "    non_missing = [0]\n",
    "    X_copy=np.copy(X)\n",
    "    \n",
    "    X_non_missing_col = X_copy[:, non_missing]\n",
    "    X1_missing = X_copy[:, [i for i in range(X.shape[1]) if i not in non_missing]]\n",
    "\n",
    "    X_non_missing_row = X1_missing[non_missing]\n",
    "    X_missing = X1_missing[len(non_missing):(X.shape[0]+1)]\n",
    "    XmShape = X_missing.shape\n",
    "    na_id = np.random.randint(0, X_missing.size, round(missing_rate * X_missing.size))\n",
    "    X_nan = X_missing.flatten()\n",
    "    X_nan[na_id] = np.nan\n",
    "    X_nan = X_nan.reshape(XmShape)\n",
    "\n",
    "    X1_nan = np.vstack((X_non_missing_row, X_nan))\n",
    "    X_nan = np.hstack((X_non_missing_col, X1_nan))\n",
    "    \n",
    "    return X_nan\n"
   ]
  },
  {
   "cell_type": "markdown",
   "metadata": {},
   "source": [
    "### Load Ecoli dataset"
   ]
  },
  {
   "cell_type": "code",
   "execution_count": 4,
   "metadata": {},
   "outputs": [
    {
     "name": "stdout",
     "output_type": "stream",
     "text": [
      "The shape of X: (336, 7)\n"
     ]
    }
   ],
   "source": [
    "data = fetch_datasets()['ecoli']\n",
    "X, y = data.data, data.target\n",
    "le = LabelEncoder()\n",
    "y = le.fit_transform(y)\n",
    "print(f\"The shape of X: {np.shape(X)}\")"
   ]
  },
  {
   "cell_type": "markdown",
   "metadata": {},
   "source": [
    "##### Split the ecoli dataset to the training data and the test data and introduce missing to the training data"
   ]
  },
  {
   "cell_type": "code",
   "execution_count": 5,
   "metadata": {},
   "outputs": [
    {
     "name": "stdout",
     "output_type": "stream",
     "text": [
      "The shape of Xtrain: (201, 7)\n",
      "the number of labels: 2 and the number of each class: [187  14] \n"
     ]
    }
   ],
   "source": [
    "# Split the dataset into 2 subsets \n",
    "Xtrain, Xtest, ytrain, ytest = train_test_split(X,y.reshape((-1,1)),test_size=0.4)\n",
    "\n",
    "G, class_counts = np.unique(ytrain, return_counts=True)  \n",
    "print(f\"The shape of Xtrain: {np.shape(Xtrain)}\")\n",
    "print(f\"the number of labels: {len(G)} and the number of each class: {class_counts} \" )\n",
    "\n",
    "# Introduce missingness into original training data with missing rate is 0.5\n",
    "Xtrain = generate_randomly_missing(Xtrain, 0.5)    \n",
    "\n",
    "# Standarize Xtrain and Xtest\n",
    "scaler = StandardScaler()\n",
    "scaler.fit(Xtrain)\n",
    "Xtrain = scaler.transform(Xtrain)\n",
    "Xtest = scaler.transform(Xtest)"
   ]
  },
  {
   "cell_type": "markdown",
   "metadata": {},
   "source": [
    "### Apply OsImp to solve imbalanced and incomplete problems"
   ]
  },
  {
   "cell_type": "code",
   "execution_count": 6,
   "metadata": {},
   "outputs": [
    {
     "name": "stdout",
     "output_type": "stream",
     "text": [
      "The shape of Xnew: (355, 7)\n",
      "the number of labels: 2 and the number of each class: [187 168] \n"
     ]
    }
   ],
   "source": [
    "# Here, we choose MICE algorithm to impute missing data\n",
    "mice_imputer = IterativeImputer().fit_transform\n",
    "\n",
    "# Initiate OsImp algorithm with ratio is 0.9\n",
    "osimputer = OsImp(mice_imputer, R=0.9)\n",
    "\n",
    "# Applying OsImp to the imbalanced missing dataset\n",
    "Xnew, ynew = osimputer.os_and_impute(Xtrain, ytrain)\n",
    "\n",
    "G, class_counts = np.unique(ynew, return_counts=True)  \n",
    "print(f\"The shape of Xnew: {np.shape(Xnew)}\")\n",
    "print(f\"the number of labels: {len(G)} and the number of each class: {class_counts} \" )"
   ]
  },
  {
   "cell_type": "markdown",
   "metadata": {},
   "source": [
    "### Using SVM to classify"
   ]
  },
  {
   "cell_type": "code",
   "execution_count": 7,
   "metadata": {},
   "outputs": [
    {
     "name": "stdout",
     "output_type": "stream",
     "text": [
      "F1-Score: 0.885\n",
      "Sensitivity: 0.874\n"
     ]
    }
   ],
   "source": [
    "from sklearn.svm import SVC\n",
    "from imblearn.metrics import sensitivity_score\n",
    "from sklearn.metrics import f1_score, precision_score\n",
    "\n",
    "SVMclf = SVC(gamma='auto')\n",
    "SVMclf.fit(Xnew, ynew)\n",
    "\n",
    "ypred = SVMclf.predict(Xtest)\n",
    "\n",
    "f1 = f1_score(ytest, ypred, average = 'weighted').round(3)\n",
    "sensitivity = sensitivity_score(ytest, ypred, average='micro').round(3)\n",
    "\n",
    "print(f\"F1-Score: {f1}\")\n",
    "print(f\"Sensitivity: {sensitivity}\")"
   ]
  }
 ],
 "metadata": {
  "kernelspec": {
   "display_name": "Python 3",
   "language": "python",
   "name": "python3"
  },
  "language_info": {
   "codemirror_mode": {
    "name": "ipython",
    "version": 3
   },
   "file_extension": ".py",
   "mimetype": "text/x-python",
   "name": "python",
   "nbconvert_exporter": "python",
   "pygments_lexer": "ipython3",
   "version": "3.10.10"
  }
 },
 "nbformat": 4,
 "nbformat_minor": 2
}
